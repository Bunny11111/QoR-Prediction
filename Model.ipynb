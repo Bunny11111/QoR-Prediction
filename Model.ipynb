{
  "cells": [
    {
      "cell_type": "code",
      "execution_count": null,
      "metadata": {
        "colab": {
          "base_uri": "https://localhost:8080/"
        },
        "id": "ixtojRBerPAs",
        "outputId": "2efc9637-8d24-4d12-b2d2-10edcd775085"
      },
      "outputs": [
        {
          "output_type": "stream",
          "name": "stdout",
          "text": [
            "Collecting torch_geometric\n",
            "  Downloading torch_geometric-2.6.1-py3-none-any.whl.metadata (63 kB)\n",
            "\u001b[?25l     \u001b[90m━━━━━━━━━━━━━━━━━━━━━━━━━━━━━━━━━━━━━━━━\u001b[0m \u001b[32m0.0/63.1 kB\u001b[0m \u001b[31m?\u001b[0m eta \u001b[36m-:--:--\u001b[0m\r\u001b[2K     \u001b[90m━━━━━━━━━━━━━━━━━━━━━━━━━━━━━━━━━━━━━━━━\u001b[0m \u001b[32m63.1/63.1 kB\u001b[0m \u001b[31m1.7 MB/s\u001b[0m eta \u001b[36m0:00:00\u001b[0m\n",
            "\u001b[?25hRequirement already satisfied: aiohttp in /usr/local/lib/python3.11/dist-packages (from torch_geometric) (3.11.15)\n",
            "Requirement already satisfied: fsspec in /usr/local/lib/python3.11/dist-packages (from torch_geometric) (2025.3.2)\n",
            "Requirement already satisfied: jinja2 in /usr/local/lib/python3.11/dist-packages (from torch_geometric) (3.1.6)\n",
            "Requirement already satisfied: numpy in /usr/local/lib/python3.11/dist-packages (from torch_geometric) (2.0.2)\n",
            "Requirement already satisfied: psutil>=5.8.0 in /usr/local/lib/python3.11/dist-packages (from torch_geometric) (5.9.5)\n",
            "Requirement already satisfied: pyparsing in /usr/local/lib/python3.11/dist-packages (from torch_geometric) (3.2.3)\n",
            "Requirement already satisfied: requests in /usr/local/lib/python3.11/dist-packages (from torch_geometric) (2.32.3)\n",
            "Requirement already satisfied: tqdm in /usr/local/lib/python3.11/dist-packages (from torch_geometric) (4.67.1)\n",
            "Requirement already satisfied: aiohappyeyeballs>=2.3.0 in /usr/local/lib/python3.11/dist-packages (from aiohttp->torch_geometric) (2.6.1)\n",
            "Requirement already satisfied: aiosignal>=1.1.2 in /usr/local/lib/python3.11/dist-packages (from aiohttp->torch_geometric) (1.3.2)\n",
            "Requirement already satisfied: attrs>=17.3.0 in /usr/local/lib/python3.11/dist-packages (from aiohttp->torch_geometric) (25.3.0)\n",
            "Requirement already satisfied: frozenlist>=1.1.1 in /usr/local/lib/python3.11/dist-packages (from aiohttp->torch_geometric) (1.5.0)\n",
            "Requirement already satisfied: multidict<7.0,>=4.5 in /usr/local/lib/python3.11/dist-packages (from aiohttp->torch_geometric) (6.4.3)\n",
            "Requirement already satisfied: propcache>=0.2.0 in /usr/local/lib/python3.11/dist-packages (from aiohttp->torch_geometric) (0.3.1)\n",
            "Requirement already satisfied: yarl<2.0,>=1.17.0 in /usr/local/lib/python3.11/dist-packages (from aiohttp->torch_geometric) (1.19.0)\n",
            "Requirement already satisfied: MarkupSafe>=2.0 in /usr/local/lib/python3.11/dist-packages (from jinja2->torch_geometric) (3.0.2)\n",
            "Requirement already satisfied: charset-normalizer<4,>=2 in /usr/local/lib/python3.11/dist-packages (from requests->torch_geometric) (3.4.1)\n",
            "Requirement already satisfied: idna<4,>=2.5 in /usr/local/lib/python3.11/dist-packages (from requests->torch_geometric) (3.10)\n",
            "Requirement already satisfied: urllib3<3,>=1.21.1 in /usr/local/lib/python3.11/dist-packages (from requests->torch_geometric) (2.3.0)\n",
            "Requirement already satisfied: certifi>=2017.4.17 in /usr/local/lib/python3.11/dist-packages (from requests->torch_geometric) (2025.1.31)\n",
            "Downloading torch_geometric-2.6.1-py3-none-any.whl (1.1 MB)\n",
            "\u001b[2K   \u001b[90m━━━━━━━━━━━━━━━━━━━━━━━━━━━━━━━━━━━━━━━━\u001b[0m \u001b[32m1.1/1.1 MB\u001b[0m \u001b[31m17.4 MB/s\u001b[0m eta \u001b[36m0:00:00\u001b[0m\n",
            "\u001b[?25hInstalling collected packages: torch_geometric\n",
            "Successfully installed torch_geometric-2.6.1\n"
          ]
        }
      ],
      "source": [
        "pip install torch_geometric"
      ]
    },
    {
      "cell_type": "code",
      "execution_count": null,
      "metadata": {
        "colab": {
          "base_uri": "https://localhost:8080/"
        },
        "id": "6NLXMWlzrOiH",
        "outputId": "e36c532c-8c30-42a1-d5f1-7459e36091f5"
      },
      "outputs": [
        {
          "output_type": "stream",
          "name": "stdout",
          "text": [
            "Mounted at /content/drive\n"
          ]
        }
      ],
      "source": [
        "from google.colab import drive\n",
        "drive.mount('/content/drive')"
      ]
    },
    {
      "cell_type": "code",
      "execution_count": null,
      "metadata": {
        "id": "e_XcEMljthTI"
      },
      "outputs": [],
      "source": [
        "import os\n",
        "import re\n",
        "import pandas as pd\n",
        "def build_gate_vocab(bench_dir):\n",
        "    gate_types = set()\n",
        "    for filename in os.listdir(bench_dir):\n",
        "        if filename.endswith(\".bench\"):\n",
        "            with open(os.path.join(bench_dir, filename), 'r') as f:\n",
        "                for line in f:\n",
        "                    if line.startswith(\"INPUT\"):\n",
        "                        gate_types.add(\"INPUT\")\n",
        "                    elif \"=\" in line:\n",
        "                        match = re.search(r\"=\\s*(\\w+)\\(\", line)\n",
        "                        if match:\n",
        "                            gate_types.add(match.group(1).upper())\n",
        "    gate_types = sorted(gate_types)\n",
        "    return {g: i for i, g in enumerate(gate_types)}\n",
        "\n",
        "def build_recipe_vocab(*recipe_lists):\n",
        "    vocab = set()\n",
        "    for lst in recipe_lists:\n",
        "        for recipe in lst:\n",
        "            vocab.update(recipe.strip().split())\n",
        "    return {step: i for i, step in enumerate(sorted(vocab))}\n"
      ]
    },
    {
      "cell_type": "code",
      "execution_count": null,
      "metadata": {
        "id": "ToS4gSFOrQlI"
      },
      "outputs": [],
      "source": [
        "import torch\n",
        "from torch_geometric.data import Data\n",
        "\n",
        "def parse_bench_file(file_path, gate_to_idx):\n",
        "    with open(file_path, 'r') as f:\n",
        "        lines = f.readlines()\n",
        "\n",
        "    node_names, node_types, edges = [], [], []\n",
        "    name_to_idx, idx_counter = {}, 0\n",
        "\n",
        "    for line in lines:\n",
        "        line = line.strip()\n",
        "        if line.startswith(\"INPUT(\"):\n",
        "            name = line[6:-1]\n",
        "            if name not in name_to_idx:\n",
        "                name_to_idx[name] = idx_counter\n",
        "                node_names.append(name)\n",
        "                node_types.append(\"INPUT\")\n",
        "                idx_counter += 1\n",
        "        elif \"=\" in line:\n",
        "            output, expr = line.split(\"=\")\n",
        "            output = output.strip()\n",
        "            gate = expr.strip().split(\"(\")[0]\n",
        "            inputs = expr.strip().split(\"(\")[1][:-1].split(\",\")\n",
        "\n",
        "            if output not in name_to_idx:\n",
        "                name_to_idx[output] = idx_counter\n",
        "                node_names.append(output)\n",
        "                node_types.append(gate.upper())\n",
        "                idx_counter += 1\n",
        "\n",
        "            for inp in inputs:\n",
        "                inp = inp.strip()\n",
        "                if inp not in name_to_idx:\n",
        "                    name_to_idx[inp] = idx_counter\n",
        "                    node_names.append(inp)\n",
        "                    node_types.append(\"UNKNOWN\")\n",
        "                    idx_counter += 1\n",
        "                edges.append((name_to_idx[inp], name_to_idx[output]))\n",
        "\n",
        "    x = torch.eye(len(gate_to_idx))[torch.tensor([gate_to_idx.get(t, gate_to_idx[\"INPUT\"]) for t in node_types])]\n",
        "    edge_index = torch.tensor(edges, dtype=torch.long).t().contiguous()\n",
        "    return Data(x=x, edge_index=edge_index)\n"
      ]
    },
    {
      "cell_type": "code",
      "execution_count": null,
      "metadata": {
        "id": "JwmCm7U2rVNG"
      },
      "outputs": [],
      "source": [
        "from torch.utils.data import Dataset\n",
        "\n",
        "def encode_recipe(recipe, vocab):\n",
        "    indices = [vocab[step] for step in recipe.strip().split() if step in vocab]\n",
        "    return torch.tensor(indices, dtype=torch.long)\n",
        "\n",
        "class QoRDataset(Dataset):\n",
        "    def __init__(self, df, recipe_vocab, gate_to_idx):\n",
        "        self.df = df\n",
        "        self.recipe_vocab = recipe_vocab\n",
        "        self.gate_to_idx = gate_to_idx\n",
        "\n",
        "    def __len__(self):\n",
        "        return len(self.df)\n",
        "\n",
        "    def __getitem__(self, idx):\n",
        "        row = self.df.iloc[idx]\n",
        "        graph = parse_bench_file(\"designs/\"+row['Design'], self.gate_to_idx)\n",
        "        recipe = encode_recipe(row['Recipe'], self.recipe_vocab)\n",
        "        target = torch.tensor(row['Area'], dtype=torch.float)\n",
        "        return graph, recipe, target\n"
      ]
    },
    {
      "cell_type": "code",
      "execution_count": null,
      "metadata": {
        "id": "iM-SHhrguzID"
      },
      "outputs": [],
      "source": [
        "import torch.nn as nn\n",
        "from torch_geometric.nn import GCNConv, global_mean_pool\n",
        "\n",
        "class GNNLSTMModel(nn.Module):\n",
        "    def __init__(self, node_feat_dim, recipe_vocab_size, emb_dim=128, lstm_hidden_dim=128):\n",
        "        super().__init__()\n",
        "        self.gcn1 = GCNConv(node_feat_dim, 64)\n",
        "        self.gcn2 = GCNConv(64, 64)\n",
        "\n",
        "        self.recipe_emb = nn.Embedding(recipe_vocab_size, emb_dim)\n",
        "        self.lstm = nn.LSTM(emb_dim, lstm_hidden_dim, batch_first=True)\n",
        "\n",
        "        self.fc = nn.Sequential(\n",
        "            nn.Linear(64 + lstm_hidden_dim, 128),\n",
        "            nn.ReLU(),\n",
        "            nn.Linear(128, 64),\n",
        "            nn.ReLU(),\n",
        "            nn.Linear(64, 1)\n",
        "        )\n",
        "\n",
        "    def forward(self, batch):\n",
        "        graphs, recipes, _ = zip(*batch)\n",
        "\n",
        "        # Graph part\n",
        "        x_all, edge_all, batch_indices = [], [], []\n",
        "        node_count = 0\n",
        "        for i, g in enumerate(graphs):\n",
        "            x_all.append(g.x)\n",
        "            edge_all.append(g.edge_index + node_count)\n",
        "            batch_indices.append(torch.full((g.num_nodes,), i))\n",
        "            node_count += g.num_nodes\n",
        "\n",
        "        x = torch.cat(x_all, dim=0)\n",
        "        edge_index = torch.cat(edge_all, dim=1)\n",
        "        batch_tensor = torch.cat(batch_indices)\n",
        "\n",
        "        x = self.gcn1(x, edge_index).relu()\n",
        "        x = self.gcn2(x, edge_index).relu()\n",
        "        graph_emb = global_mean_pool(x, batch_tensor)\n",
        "\n",
        "        # Recipe part\n",
        "        padded_recipes = nn.utils.rnn.pad_sequence(recipes, batch_first=True)\n",
        "        emb = self.recipe_emb(padded_recipes)\n",
        "        _, (h_n, _) = self.lstm(emb)\n",
        "        recipe_emb = h_n[-1]\n",
        "\n",
        "        # Combine\n",
        "        combined = torch.cat([graph_emb, recipe_emb], dim=1)\n",
        "        out = self.fc(combined)\n",
        "        return out.squeeze()\n"
      ]
    },
    {
      "cell_type": "code",
      "execution_count": null,
      "metadata": {
        "id": "oi6BOnG3rg8D"
      },
      "outputs": [],
      "source": [
        "import math\n",
        "import matplotlib.pyplot as plt\n",
        "\n",
        "def train(model, dataloader, optimizer, criterion, epochs=6):\n",
        "    rmse_per_epoch = []\n",
        "\n",
        "    for epoch in range(epochs):\n",
        "        model.train()\n",
        "        total_loss = 0\n",
        "        for batch in dataloader:\n",
        "            pred = model(batch)\n",
        "            # Fix: Ensure target tensors have at least one dimension\n",
        "            target = torch.cat([t.unsqueeze(0) if t.dim() == 0 else t for _, _, t in batch])\n",
        "            loss = criterion(pred, target)\n",
        "            optimizer.zero_grad()\n",
        "            loss.backward()\n",
        "            optimizer.step()\n",
        "            total_loss += loss.item()\n",
        "\n",
        "        avg_loss = total_loss / len(dataloader)\n",
        "        rmse = math.sqrt(avg_loss)\n",
        "        rmse_per_epoch.append(rmse)\n",
        "        print(f\"Epoch {epoch+1}, Loss: {avg_loss:.4f}, RMSE: {rmse:.4f}\")\n",
        "\n",
        "    # Plot the graph\n",
        "    plt.figure(figsize=(8, 6))\n",
        "    plt.plot(range(1, epochs + 1), rmse_per_epoch, marker='o', label='RMSE')\n",
        "    plt.xlabel('Epochs')\n",
        "    plt.ylabel('RMSE')\n",
        "    plt.title('RMSE vs Epochs')\n",
        "    plt.legend()\n",
        "    plt.grid()\n",
        "    plt.show()\n",
        "\n",
        "\n",
        "\n",
        "def test(model, dataloader):\n",
        "    model.eval()\n",
        "    total_loss = 0\n",
        "    preds, targets = [], []\n",
        "    with torch.no_grad():\n",
        "        for batch in dataloader:\n",
        "            pred = model(batch)\n",
        "            # Ensure pred has at least one dimension\n",
        "            pred = pred.unsqueeze(0) if pred.dim() == 0 else pred\n",
        "            target = torch.cat([t.unsqueeze(0) if t.dim() == 0 else t for _, _, t in batch])\n",
        "            preds.append(pred)\n",
        "            targets.append(target)\n",
        "    preds = torch.cat(preds)\n",
        "    targets = torch.cat(targets)\n",
        "    mse = nn.MSELoss()(preds, targets)\n",
        "    print(f\"Test MSE: {mse.item():.4f}\")\n",
        "    print(f\"Test RMSE: {math.sqrt(mse.item()):.4f}\")\n",
        "    return math.sqrt(mse.item())"
      ]
    },
    {
      "cell_type": "code",
      "execution_count": null,
      "metadata": {
        "id": "sjOBo6x9u6zy"
      },
      "outputs": [],
      "source": [
        "\n",
        "from sklearn.model_selection import train_test_split\n",
        "from torch.utils.data import DataLoader\n",
        "\n",
        "# Datasets\n",
        "df = pd.read_csv(\"dataset2.csv\")\n",
        "df1 = pd.read_csv(\"dataset1.csv\")\n",
        "df2 = pd.read_csv(\"dataset.csv\")\n",
        "\n",
        "#Scaling them into range of big design\n",
        "df['Area'] = df['Area']*(1000)/(2154)\n",
        "df1['Area'] = df1['Area']*(1000)/(21615)\n",
        "df2['Area'] = df2['Area']*(1000)/(64804)\n",
        "\n",
        "# Build global vocabs\n",
        "gate_to_idx = build_gate_vocab(\"designs/\")\n",
        "recipe_vocab = build_recipe_vocab(df['Recipe'], df1['Recipe'],df2['Recipe'])  # Add 3rd df if needed\n",
        "\n",
        "\n",
        "train_df, test_df = train_test_split(df, test_size=0.15, random_state=42)\n",
        "\n",
        "train_dataset = QoRDataset(train_df, recipe_vocab, gate_to_idx)\n",
        "test_dataset = QoRDataset(test_df, recipe_vocab, gate_to_idx)\n",
        "\n",
        "train_loader = DataLoader(train_dataset, batch_size=3, shuffle=True, collate_fn=lambda x: x)\n",
        "test_loader = DataLoader(test_dataset, batch_size=3, shuffle=False, collate_fn=lambda x: x)\n"
      ]
    },
    {
      "cell_type": "code",
      "execution_count": null,
      "metadata": {
        "id": "1-OIY_3Wu6uC"
      },
      "outputs": [],
      "source": [
        "node_feat_dim = len(gate_to_idx)\n",
        "recipe_vocab_size = len(recipe_vocab)\n",
        "\n",
        "model = GNNLSTMModel(node_feat_dim, recipe_vocab_size)\n",
        "optimizer = torch.optim.Adam(model.parameters(), lr=1e-3)\n",
        "criterion = nn.MSELoss()\n"
      ]
    },
    {
      "cell_type": "code",
      "execution_count": null,
      "metadata": {
        "colab": {
          "base_uri": "https://localhost:8080/",
          "height": 966
        },
        "id": "jcPNHAOeu6q9",
        "outputId": "efe57efe-0ece-4b7a-8352-799c66397cf6"
      },
      "outputs": [
        {
          "output_type": "stream",
          "name": "stderr",
          "text": [
            "/usr/local/lib/python3.11/dist-packages/torch/nn/modules/loss.py:610: UserWarning: Using a target size (torch.Size([1])) that is different to the input size (torch.Size([])). This will likely lead to incorrect results due to broadcasting. Please ensure they have the same size.\n",
            "  return F.mse_loss(input, target, reduction=self.reduction)\n"
          ]
        },
        {
          "output_type": "stream",
          "name": "stdout",
          "text": [
            "Epoch 1, Loss: 173299.7348, RMSE: 416.2928\n",
            "Epoch 2, Loss: 3589.7083, RMSE: 59.9142\n",
            "Epoch 3, Loss: 3208.9276, RMSE: 56.6474\n",
            "Epoch 4, Loss: 3511.2522, RMSE: 59.2558\n",
            "Epoch 5, Loss: 2987.0011, RMSE: 54.6535\n",
            "Epoch 6, Loss: 3078.8441, RMSE: 55.4873\n",
            "Epoch 7, Loss: 2947.7915, RMSE: 54.2936\n",
            "Epoch 8, Loss: 2707.3033, RMSE: 52.0318\n",
            "Epoch 9, Loss: 2090.4039, RMSE: 45.7209\n",
            "Epoch 10, Loss: 1241.6707, RMSE: 35.2373\n",
            "Epoch 11, Loss: 1364.1149, RMSE: 36.9339\n",
            "Epoch 12, Loss: 1610.4693, RMSE: 40.1307\n",
            "Epoch 13, Loss: 956.4458, RMSE: 30.9265\n",
            "Epoch 14, Loss: 526.0911, RMSE: 22.9367\n",
            "Epoch 15, Loss: 557.6283, RMSE: 23.6142\n",
            "Epoch 16, Loss: 477.7445, RMSE: 21.8574\n",
            "Epoch 17, Loss: 364.3308, RMSE: 19.0875\n",
            "Epoch 18, Loss: 392.6215, RMSE: 19.8147\n",
            "Epoch 19, Loss: 410.7070, RMSE: 20.2659\n",
            "Epoch 20, Loss: 416.5289, RMSE: 20.4090\n"
          ]
        },
        {
          "output_type": "display_data",
          "data": {
            "text/plain": [
              "<Figure size 800x600 with 1 Axes>"
            ],
            "image/png": "[encoded data removed]"
          },
          "metadata": {}
        }
      ],
      "source": [
        "train(model, train_loader, optimizer, criterion, epochs=20)"
      ]
    },
    {
      "cell_type": "code",
      "execution_count": null,
      "metadata": {
        "colab": {
          "base_uri": "https://localhost:8080/"
        },
        "id": "AAQ4mHs48-6j",
        "outputId": "53091a7a-8f30-477b-eb99-9d42d0a6f63e"
      },
      "outputs": [
        {
          "output_type": "stream",
          "name": "stdout",
          "text": [
            "Test MSE: 676.8384\n",
            "Test RMSE: 26.0161\n"
          ]
        },
        {
          "output_type": "execute_result",
          "data": {
            "text/plain": [
              "26.016118848540923"
            ]
          },
          "metadata": {},
          "execution_count": 11
        }
      ],
      "source": [
        "test(model, test_loader)"
      ]
    },
    {
      "cell_type": "code",
      "execution_count": null,
      "metadata": {
        "id": "qeiOGR6Twvax"
      },
      "outputs": [],
      "source": []
    },
    {
      "cell_type": "code",
      "execution_count": null,
      "metadata": {
        "id": "85Fa_B1AyPBh"
      },
      "outputs": [],
      "source": [
        "import torch\n",
        "\n",
        "def save_checkpoint(model, optimizer, epoch, path):\n",
        "    torch.save({\n",
        "        'epoch': epoch,\n",
        "        'model_state_dict': model.state_dict(),\n",
        "        'optimizer_state_dict': optimizer.state_dict(),\n",
        "    }, path)\n",
        "    print(f\"✅ Saved checkpoint at epoch {epoch} to {path}\")\n",
        "\n",
        "def load_checkpoint(model, optimizer, path):\n",
        "    checkpoint = torch.load(path)\n",
        "    model.load_state_dict(checkpoint['model_state_dict'])\n",
        "    optimizer.load_state_dict(checkpoint['optimizer_state_dict'])\n",
        "    start_epoch = checkpoint['epoch']\n",
        "    print(f\"🔁 Loaded checkpoint from epoch {start_epoch}\")\n",
        "    return start_epoch\n"
      ]
    },
    {
      "cell_type": "code",
      "execution_count": null,
      "metadata": {
        "id": "5zE506BgyUlh"
      },
      "outputs": [],
      "source": [
        "# 3. Setup checkpoint path (you can change the name or folder)\n",
        "CHECKPOINT_PATH = \"/content/drive/MyDrive/qor_checkpoint4.pth\""
      ]
    },
    {
      "cell_type": "code",
      "execution_count": null,
      "metadata": {
        "colab": {
          "base_uri": "https://localhost:8080/"
        },
        "id": "wtTOPXWA9vxy",
        "outputId": "a8624637-d4c1-45f5-cdcd-1c98f2dd7d6f"
      },
      "outputs": [
        {
          "output_type": "stream",
          "name": "stdout",
          "text": [
            "✅ Saved checkpoint at epoch 18 to /content/drive/MyDrive/qor_checkpoint4.pth\n"
          ]
        }
      ],
      "source": [
        "save_checkpoint(model, optimizer, 18, CHECKPOINT_PATH)"
      ]
    },
    {
      "cell_type": "code",
      "execution_count": null,
      "metadata": {
        "colab": {
          "base_uri": "https://localhost:8080/"
        },
        "id": "bYGS5lp2GpnK",
        "outputId": "afcaaf4b-81d5-4a5f-c410-f48f812e7e84"
      },
      "outputs": [
        {
          "output_type": "stream",
          "name": "stdout",
          "text": [
            "🔁 Loaded checkpoint from epoch 18\n"
          ]
        },
        {
          "output_type": "execute_result",
          "data": {
            "text/plain": [
              "18"
            ]
          },
          "metadata": {},
          "execution_count": 28
        }
      ],
      "source": [
        "load_checkpoint(model, optimizer, CHECKPOINT_PATH)"
      ]
    },
    {
      "cell_type": "markdown",
      "source": [
        "# **Test on 2nd design**"
      ],
      "metadata": {
        "id": "A1OMcKfG95-s"
      }
    },
    {
      "cell_type": "code",
      "execution_count": null,
      "metadata": {
        "id": "hmDBAh8x93Zl"
      },
      "outputs": [],
      "source": [
        "df11 = QoRDataset(df1, recipe_vocab, gate_to_idx)\n",
        "\n",
        "df1_loader = DataLoader(df11, batch_size=3, shuffle=True, collate_fn=lambda x: x)\n"
      ]
    },
    {
      "cell_type": "code",
      "execution_count": null,
      "metadata": {
        "colab": {
          "base_uri": "https://localhost:8080/"
        },
        "id": "EXXeUMdn-NbX",
        "outputId": "00e1caf6-d622-4e03-e23d-7a9722a18f52"
      },
      "outputs": [
        {
          "output_type": "stream",
          "name": "stdout",
          "text": [
            "Test MSE: 2400.3772\n",
            "Test RMSE: 48.9936\n"
          ]
        },
        {
          "output_type": "execute_result",
          "data": {
            "text/plain": [
              "48.99364445788479"
            ]
          },
          "metadata": {},
          "execution_count": 17
        }
      ],
      "source": [
        "test(model, df1_loader)"
      ]
    },
    {
      "cell_type": "markdown",
      "source": [
        "**Now we will train by taking data of both 1st and 2nd deesigns**"
      ],
      "metadata": {
        "id": "9RvJ2u0y-cKV"
      }
    },
    {
      "cell_type": "code",
      "execution_count": null,
      "metadata": {
        "id": "XujoDFmKCA7-"
      },
      "outputs": [],
      "source": [
        "train_df1, test_df1 = train_test_split(df1, test_size=0.15, random_state=42)\n",
        "\n",
        "train_df11 = pd.concat([train_df, train_df1], ignore_index=True)\n",
        "train_df11 = train_df11.sample(frac=1).reset_index(drop=True)\n",
        "\n",
        "test_df11 = pd.concat([test_df, test_df1], ignore_index=True)\n",
        "test_df11 = test_df11.sample(frac=1).reset_index(drop=True)\n",
        "\n",
        "train_dataset = QoRDataset(train_df11, recipe_vocab, gate_to_idx)\n",
        "test_dataset = QoRDataset(test_df11, recipe_vocab, gate_to_idx)\n",
        "\n",
        "train_loader = DataLoader(train_dataset, batch_size=3, shuffle=True, collate_fn=lambda x: x)\n",
        "test_loader = DataLoader(test_dataset, batch_size=3, shuffle=False, collate_fn=lambda x: x)"
      ]
    },
    {
      "cell_type": "code",
      "execution_count": null,
      "metadata": {
        "colab": {
          "base_uri": "https://localhost:8080/",
          "height": 703
        },
        "id": "9UsI8Oh4CA5P",
        "outputId": "f2931997-f0e5-4b28-835b-6d5174e5c511"
      },
      "outputs": [
        {
          "output_type": "stream",
          "name": "stdout",
          "text": [
            "Epoch 1, Loss: 766.3039, RMSE: 27.6822\n",
            "Epoch 2, Loss: 553.9729, RMSE: 23.5366\n",
            "Epoch 3, Loss: 492.7445, RMSE: 22.1978\n",
            "Epoch 4, Loss: 539.5141, RMSE: 23.2274\n",
            "Epoch 5, Loss: 455.4358, RMSE: 21.3409\n",
            "Epoch 6, Loss: 484.1475, RMSE: 22.0034\n",
            "Epoch 7, Loss: 421.1906, RMSE: 20.5229\n",
            "Epoch 8, Loss: 410.0328, RMSE: 20.2493\n"
          ]
        },
        {
          "output_type": "display_data",
          "data": {
            "text/plain": [
              "<Figure size 800x600 with 1 Axes>"
            ],
            "image/png": "[encoded data removed]"
          },
          "metadata": {}
        }
      ],
      "source": [
        "train(model, train_loader, optimizer, criterion, epochs=8)"
      ]
    },
    {
      "cell_type": "code",
      "execution_count": null,
      "metadata": {
        "id": "P8ep3tX6IdCs"
      },
      "outputs": [],
      "source": []
    },
    {
      "cell_type": "code",
      "execution_count": null,
      "metadata": {
        "colab": {
          "base_uri": "https://localhost:8080/"
        },
        "id": "7qzRN48RCA2e",
        "outputId": "0b4c45f7-a2ab-4a81-cdcf-4c47550201e2"
      },
      "outputs": [
        {
          "output_type": "stream",
          "name": "stdout",
          "text": [
            "Test MSE: 566.6769\n",
            "Test RMSE: 23.8050\n"
          ]
        },
        {
          "output_type": "execute_result",
          "data": {
            "text/plain": [
              "23.804975947957026"
            ]
          },
          "metadata": {},
          "execution_count": 41
        }
      ],
      "source": [
        "test(model,test_loader)"
      ]
    },
    {
      "cell_type": "code",
      "execution_count": null,
      "metadata": {
        "id": "3EvnIBQN-T-m"
      },
      "outputs": [],
      "source": [
        "CHECKPOINT_PATH2 = \"/content/drive/MyDrive/qor_checkpoint5.pth\""
      ]
    },
    {
      "cell_type": "code",
      "execution_count": null,
      "metadata": {
        "colab": {
          "base_uri": "https://localhost:8080/"
        },
        "id": "XEl7K8tHHLQh",
        "outputId": "cb1737b6-5e43-4c17-ff4e-bc70faab7be5"
      },
      "outputs": [
        {
          "output_type": "stream",
          "name": "stdout",
          "text": [
            "✅ Saved checkpoint at epoch 15 to /content/drive/MyDrive/qor_checkpoint5.pth\n"
          ]
        }
      ],
      "source": [
        "save_checkpoint(model, optimizer, 15, CHECKPOINT_PATH2)"
      ]
    },
    {
      "cell_type": "code",
      "execution_count": null,
      "metadata": {
        "colab": {
          "base_uri": "https://localhost:8080/"
        },
        "id": "y7iogCzLHPki",
        "outputId": "d0b10b4f-89d4-4931-ecf1-f75204e3bae8"
      },
      "outputs": [
        {
          "output_type": "stream",
          "name": "stdout",
          "text": [
            "🔁 Loaded checkpoint from epoch 15\n"
          ]
        },
        {
          "output_type": "execute_result",
          "data": {
            "text/plain": [
              "15"
            ]
          },
          "metadata": {},
          "execution_count": 44
        }
      ],
      "source": [
        "load_checkpoint(model, optimizer, CHECKPOINT_PATH2)"
      ]
    },
    {
      "cell_type": "markdown",
      "source": [
        "# **Test on 3rd Design**"
      ],
      "metadata": {
        "id": "yLOgeAxb_iZf"
      }
    },
    {
      "cell_type": "code",
      "execution_count": null,
      "metadata": {
        "id": "Ey6UDdFwHPhx"
      },
      "outputs": [],
      "source": [
        "df22 = QoRDataset(df2, recipe_vocab, gate_to_idx)\n",
        "\n",
        "df2_loader = DataLoader(df22, batch_size=3, shuffle=True, collate_fn=lambda x: x)\n"
      ]
    },
    {
      "cell_type": "code",
      "execution_count": null,
      "metadata": {
        "colab": {
          "base_uri": "https://localhost:8080/"
        },
        "id": "VRAzrEPMHoWK",
        "outputId": "6f1a16b9-0b9d-45c5-f856-bb67d84d79af"
      },
      "outputs": [
        {
          "output_type": "stream",
          "name": "stdout",
          "text": [
            "Test MSE: 4481.1855\n",
            "Test RMSE: 66.9417\n"
          ]
        },
        {
          "output_type": "execute_result",
          "data": {
            "text/plain": [
              "66.9416577840361"
            ]
          },
          "metadata": {},
          "execution_count": 46
        }
      ],
      "source": [
        "test(model, df2_loader)"
      ]
    },
    {
      "cell_type": "markdown",
      "source": [
        "**Train by taking all 3 designs's data**"
      ],
      "metadata": {
        "id": "xhUnkVw7_oSM"
      }
    },
    {
      "cell_type": "code",
      "execution_count": null,
      "metadata": {
        "id": "Tjxq3xn-HwOS"
      },
      "outputs": [],
      "source": [
        "train_df2, test_df2 = train_test_split(df2, test_size=0.15, random_state=42)\n",
        "\n",
        "train_df22 = pd.concat([train_df11, train_df2], ignore_index=True)\n",
        "train_df22 = train_df22.sample(frac=1).reset_index(drop=True)\n",
        "\n",
        "test_df22 = pd.concat([test_df11, test_df2], ignore_index=True)\n",
        "test_df22 = test_df22.sample(frac=1).reset_index(drop=True)\n",
        "\n",
        "train_dataset = QoRDataset(train_df22, recipe_vocab, gate_to_idx)\n",
        "test_dataset = QoRDataset(test_df22, recipe_vocab, gate_to_idx)\n",
        "\n",
        "train_loader = DataLoader(train_dataset, batch_size=3, shuffle=True, collate_fn=lambda x: x)\n",
        "test_loader = DataLoader(test_dataset, batch_size=3, shuffle=False, collate_fn=lambda x: x)"
      ]
    },
    {
      "cell_type": "code",
      "execution_count": null,
      "metadata": {
        "id": "xMDOgduJImxu",
        "colab": {
          "base_uri": "https://localhost:8080/",
          "height": 738
        },
        "outputId": "8e923bf8-8836-4620-80bf-77a752e884a8"
      },
      "outputs": [
        {
          "output_type": "stream",
          "name": "stdout",
          "text": [
            "Epoch 1, Loss: 823.5698, RMSE: 28.6979\n",
            "Epoch 2, Loss: 779.2643, RMSE: 27.9153\n",
            "Epoch 3, Loss: 773.4586, RMSE: 27.8111\n",
            "Epoch 4, Loss: 788.4636, RMSE: 28.0796\n",
            "Epoch 5, Loss: 773.6558, RMSE: 27.8147\n",
            "Epoch 6, Loss: 736.6615, RMSE: 27.1415\n",
            "Epoch 7, Loss: 786.4579, RMSE: 28.0439\n",
            "Epoch 8, Loss: 725.4098, RMSE: 26.9334\n",
            "Epoch 9, Loss: 759.2115, RMSE: 27.5538\n",
            "Epoch 10, Loss: 709.1214, RMSE: 26.6293\n"
          ]
        },
        {
          "output_type": "display_data",
          "data": {
            "text/plain": [
              "<Figure size 800x600 with 1 Axes>"
            ],
            "image/png": "[encoded data removed]"
          },
          "metadata": {}
        }
      ],
      "source": [
        "train(model, train_loader, optimizer, criterion, epochs=10)"
      ]
    },
    {
      "cell_type": "code",
      "execution_count": null,
      "metadata": {
        "colab": {
          "base_uri": "https://localhost:8080/"
        },
        "id": "ajcAR4sUImu5",
        "outputId": "79f47b50-649a-4d88-a341-d6a683fe3aca"
      },
      "outputs": [
        {
          "output_type": "stream",
          "name": "stdout",
          "text": [
            "Test MSE: 733.0599\n",
            "Test RMSE: 27.0751\n"
          ]
        },
        {
          "output_type": "execute_result",
          "data": {
            "text/plain": [
              "27.075078494591317"
            ]
          },
          "metadata": {},
          "execution_count": 25
        }
      ],
      "source": [
        "test(model,test_loader)"
      ]
    },
    {
      "cell_type": "code",
      "execution_count": null,
      "metadata": {
        "id": "xXAgJfPAItBl"
      },
      "outputs": [],
      "source": [
        "CHECKPOINT_PATH3 = \"/content/drive/MyDrive/qor_checkpoint8.pth\""
      ]
    },
    {
      "cell_type": "code",
      "execution_count": null,
      "metadata": {
        "colab": {
          "base_uri": "https://localhost:8080/"
        },
        "id": "i7opfBApIw9X",
        "outputId": "916c8d02-feaf-4945-9cbf-7eaaca56135a"
      },
      "outputs": [
        {
          "output_type": "stream",
          "name": "stdout",
          "text": [
            "✅ Saved checkpoint at epoch 20 to /content/drive/MyDrive/qor_checkpoint8.pth\n"
          ]
        }
      ],
      "source": [
        "save_checkpoint(model, optimizer, 20, CHECKPOINT_PATH3)"
      ]
    },
    {
      "cell_type": "code",
      "source": [
        "load_checkpoint(model, optimizer, CHECKPOINT_PATH3)"
      ],
      "metadata": {
        "colab": {
          "base_uri": "https://localhost:8080/"
        },
        "id": "PpzvHS9U2wuT",
        "outputId": "7ad8417d-1f04-404b-e2a0-b76c73b35c8e"
      },
      "execution_count": null,
      "outputs": [
        {
          "output_type": "stream",
          "name": "stdout",
          "text": [
            "🔁 Loaded checkpoint from epoch 20\n"
          ]
        },
        {
          "output_type": "execute_result",
          "data": {
            "text/plain": [
              "20"
            ]
          },
          "metadata": {},
          "execution_count": 28
        }
      ]
    },
    {
      "cell_type": "code",
      "execution_count": null,
      "metadata": {
        "id": "Hzo7a0POZyu2"
      },
      "outputs": [],
      "source": [
        "def test1(model, dataloader, num_points=10):\n",
        "    model.eval()\n",
        "    actuals, predictions = [], []\n",
        "\n",
        "    with torch.no_grad():\n",
        "        for batch in dataloader:\n",
        "            pred = model(batch)\n",
        "            # Assuming target is in the third position of the batch\n",
        "            target = torch.cat([t.unsqueeze(0) if t.dim() == 0 else t for _, _, t in batch])\n",
        "            actuals.extend(target.tolist())\n",
        "            predictions.extend(pred.tolist())\n",
        "\n",
        "            # Break early if we've collected enough points\n",
        "            if len(actuals) >= num_points:\n",
        "                break\n",
        "\n",
        "    # Trim to the specified number of points\n",
        "    return actuals[:num_points], predictions[:num_points]\n"
      ]
    },
    {
      "cell_type": "code",
      "execution_count": null,
      "metadata": {
        "colab": {
          "base_uri": "https://localhost:8080/"
        },
        "id": "fi1r4HNRZyr-",
        "outputId": "44e2892f-bbe5-4ed4-afff-13f8c49ff82e"
      },
      "outputs": [
        {
          "output_type": "stream",
          "name": "stdout",
          "text": [
            "Test MSE: 394.3627\n",
            "Test RMSE: 19.8586\n",
            "RMSE after rescaling back:  42.7754\n"
          ]
        }
      ],
      "source": [
        "test_dataset = QoRDataset(test_df, recipe_vocab, gate_to_idx)\n",
        "test_loader = DataLoader(test_dataset, batch_size=3, shuffle=False, collate_fn=lambda x: x)\n",
        "value = test(model,test_loader)\n",
        "value = value*(2154/1000)\n",
        "print(f\"RMSE after rescaling back:  {value:.4f}\")"
      ]
    },
    {
      "cell_type": "code",
      "source": [
        "from prettytable import PrettyTable\n",
        "actuals, predictions = test1(model, test_loader)\n",
        "\n",
        "# Example: Rescale values\n",
        "rescaled_actuals = [a * (2154/1000) for a in actuals]\n",
        "rescaled_predictions = [p * (2154/1000) for p in predictions]\n",
        "\n",
        "table = PrettyTable()\n",
        "table.field_names = [\"Index\", \"Actual (Rescaled)\", \"Predicted (Rescaled)\"]\n",
        "\n",
        "for i, (actual, predicted) in enumerate(zip(rescaled_actuals, rescaled_predictions)):\n",
        "    table.add_row([i + 1, f\"{actual:.4f}\", f\"{predicted:.4f}\"])\n",
        "\n",
        "print(table)"
      ],
      "metadata": {
        "colab": {
          "base_uri": "https://localhost:8080/"
        },
        "id": "2wIF--7g6Qiv",
        "outputId": "fd71ae94-89af-4982-c342-bf1b93e01f34"
      },
      "execution_count": null,
      "outputs": [
        {
          "output_type": "stream",
          "name": "stdout",
          "text": [
            "+-------+-------------------+----------------------+\n",
            "| Index | Actual (Rescaled) | Predicted (Rescaled) |\n",
            "+-------+-------------------+----------------------+\n",
            "|   1   |     1842.9999     |      1891.2809       |\n",
            "|   2   |     1899.0000     |      1890.7190       |\n",
            "|   3   |     1847.0000     |      1872.8609       |\n",
            "|   4   |     1802.0001     |      1813.7450       |\n",
            "|   5   |     1771.0000     |      1817.9632       |\n",
            "|   6   |     2154.0000     |      2175.0491       |\n",
            "|   7   |     1819.0000     |      1813.4620       |\n",
            "|   8   |     1886.0000     |      1856.3894       |\n",
            "|   9   |     2154.0000     |      2175.0554       |\n",
            "|   10  |     1708.0000     |      1750.8610       |\n",
            "+-------+-------------------+----------------------+\n"
          ]
        }
      ]
    },
    {
      "cell_type": "code",
      "execution_count": 2,
      "metadata": {
        "id": "8vr_OlJhnsjL",
        "colab": {
          "base_uri": "https://localhost:8080/"
        },
        "outputId": "720137ef-125b-4b25-cf9d-2650f1fbbb53"
      },
      "outputs": [
        {
          "output_type": "stream",
          "name": "stdout",
          "text": [
            "Test MSE: 517.2724\n",
            "Test RMSE: 22.7437\n",
            "RMSE after rescaling back:  491.6034\n"
          ]
        }
      ],
      "source": [
        "test_dataset = QoRDataset(test_df1, recipe_vocab, gate_to_idx)\n",
        "test_loader = DataLoader(test_dataset, batch_size=3, shuffle=False, collate_fn=lambda x: x)\n",
        "value = test(model,test_loader)\n",
        "value = value*(21615/1000)\n",
        "print(f\"RMSE after rescaling back:  {value:.4f}\")"
      ]
    },
    {
      "cell_type": "code",
      "source": [
        "from prettytable import PrettyTable\n",
        "actuals, predictions = test1(model, test_loader)\n",
        "\n",
        "# Example: Rescale values\n",
        "rescaled_actuals = [a * (21615/1000) for a in actuals]\n",
        "rescaled_predictions = [p * (21615/1000) for p in predictions]\n",
        "\n",
        "table = PrettyTable()\n",
        "table.field_names = [\"Index\", \"Actual (Rescaled)\", \"Predicted (Rescaled)\"]\n",
        "\n",
        "for i, (actual, predicted) in enumerate(zip(rescaled_actuals, rescaled_predictions)):\n",
        "    table.add_row([i + 1, f\"{actual:.4f}\", f\"{predicted:.4f}\"])\n",
        "\n",
        "print(table)\n"
      ],
      "metadata": {
        "colab": {
          "base_uri": "https://localhost:8080/"
        },
        "id": "sbgMPWBQ6TMH",
        "outputId": "020092a0-1855-4886-a59d-d5115986ac22"
      },
      "execution_count": null,
      "outputs": [
        {
          "output_type": "stream",
          "name": "stdout",
          "text": [
            "+-------+-------------------+----------------------+\n",
            "| Index | Actual (Rescaled) | Predicted (Rescaled) |\n",
            "+-------+-------------------+----------------------+\n",
            "|   1   |     18966.0002    |      19279.5457      |\n",
            "|   2   |     15895.0000    |      16567.6310      |\n",
            "|   3   |     17561.0002    |      17507.9930      |\n",
            "|   4   |     17476.0006    |      17338.4279      |\n",
            "|   5   |     21497.0001    |      20835.4471      |\n",
            "|   6   |     15970.9995    |      16569.9556      |\n",
            "|   7   |     18966.0002    |      19402.1261      |\n",
            "|   8   |     17319.0003    |      17178.4579      |\n",
            "|   9   |     21615.0000    |      20688.4337      |\n",
            "|   10  |     19405.9995    |      19150.6341      |\n",
            "+-------+-------------------+----------------------+\n"
          ]
        }
      ]
    },
    {
      "cell_type": "code",
      "source": [
        "test_dataset = QoRDataset(test_df2, recipe_vocab, gate_to_idx)\n",
        "test_loader = DataLoader(test_dataset, batch_size=3, shuffle=False, collate_fn=lambda x: x)\n",
        "value = test(model,test_loader)\n",
        "value = value*(64804/1000)\n",
        "print(f\"RMSE after rescaling back:  {value:.4f}\")"
      ],
      "metadata": {
        "id": "Bi1cuG1KBpQY",
        "colab": {
          "base_uri": "https://localhost:8080/"
        },
        "outputId": "92701f87-019f-48d4-a1a2-5de75796df89"
      },
      "execution_count": 1,
      "outputs": [
        {
          "output_type": "stream",
          "name": "stdout",
          "text": [
            "Test MSE: 963.3885\n",
            "Test RMSE: 31.0385\n",
            "RMSE after rescaling back:  2011.4190\n"
          ]
        }
      ]
    },
    {
      "cell_type": "code",
      "source": [
        "from prettytable import PrettyTable\n",
        "actuals, predictions = test1(model, test_loader)\n",
        "\n",
        "# Example: Rescale values\n",
        "rescaled_actuals = [a * (64804/1000) for a in actuals]\n",
        "rescaled_predictions = [p * (64804/1000) for p in predictions]\n",
        "\n",
        "table = PrettyTable()\n",
        "table.field_names = [\"Index\", \"Actual (Rescaled)\", \"Predicted (Rescaled)\"]\n",
        "\n",
        "for i, (actual, predicted) in enumerate(zip(rescaled_actuals, rescaled_predictions)):\n",
        "    table.add_row([i + 1, f\"{actual:.4f}\", f\"{predicted:.4f}\"])\n",
        "\n",
        "print(table)\n"
      ],
      "metadata": {
        "colab": {
          "base_uri": "https://localhost:8080/"
        },
        "id": "nUkc2Cyu6UsW",
        "outputId": "9d33f2c1-70c1-45d7-d117-ebb023fdab91"
      },
      "execution_count": null,
      "outputs": [
        {
          "output_type": "stream",
          "name": "stdout",
          "text": [
            "+-------+-------------------+----------------------+\n",
            "| Index | Actual (Rescaled) | Predicted (Rescaled) |\n",
            "+-------+-------------------+----------------------+\n",
            "|   1   |     55357.9982    |      59804.5359      |\n",
            "|   2   |     57509.9981    |      58779.8385      |\n",
            "|   3   |     56049.0010    |      55268.0305      |\n",
            "|   4   |     52011.0006    |      50836.2541      |\n",
            "|   5   |     61923.9993    |      63444.2947      |\n",
            "|   6   |     55914.0019    |      56776.9345      |\n",
            "|   7   |     51155.9984    |      50966.2378      |\n",
            "|   8   |     61923.9993    |      63444.2947      |\n",
            "|   9   |     63484.9989    |      58025.3806      |\n",
            "|   10  |     53044.0002    |      52323.0360      |\n",
            "+-------+-------------------+----------------------+\n"
          ]
        }
      ]
    },
    {
      "cell_type": "code",
      "source": [],
      "metadata": {
        "id": "Wx8t3YsKUo8Y"
      },
      "execution_count": null,
      "outputs": []
    }
  ],
  "metadata": {
    "colab": {
      "provenance": []
    },
    "kernelspec": {
      "display_name": "Python 3",
      "name": "python3"
    },
    "language_info": {
      "name": "python"
    }
  },
  "nbformat": 4,
  "nbformat_minor": 0
}